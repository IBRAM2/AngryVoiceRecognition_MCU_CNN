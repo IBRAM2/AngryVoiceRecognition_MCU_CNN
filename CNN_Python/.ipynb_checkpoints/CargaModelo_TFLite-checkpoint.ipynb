{
 "cells": [
  {
   "cell_type": "code",
   "execution_count": 1,
   "id": "9a0816bc",
   "metadata": {},
   "outputs": [
    {
     "name": "stderr",
     "output_type": "stream",
     "text": [
      "2024-04-09 04:50:52.309246: I tensorflow/core/platform/cpu_feature_guard.cc:193] This TensorFlow binary is optimized with oneAPI Deep Neural Network Library (oneDNN) to use the following CPU instructions in performance-critical operations:  AVX2 FMA\n",
      "To enable them in other operations, rebuild TensorFlow with the appropriate compiler flags.\n",
      "/usr/local/lib/python3.8/dist-packages/tensorflow_io/python/ops/__init__.py:98: UserWarning: unable to load libtensorflow_io_plugins.so: unable to open file: libtensorflow_io_plugins.so, from paths: ['/usr/local/lib/python3.8/dist-packages/tensorflow_io/python/ops/libtensorflow_io_plugins.so']\n",
      "caused by: ['/usr/local/lib/python3.8/dist-packages/tensorflow_io/python/ops/libtensorflow_io_plugins.so: undefined symbol: _ZN3tsl6StatusC1EN10tensorflow5error4CodeESt17basic_string_viewIcSt11char_traitsIcEENS_18SourceLocationImplE']\n",
      "  warnings.warn(f\"unable to load libtensorflow_io_plugins.so: {e}\")\n",
      "/usr/local/lib/python3.8/dist-packages/tensorflow_io/python/ops/__init__.py:104: UserWarning: file system plugins are not loaded: unable to open file: libtensorflow_io.so, from paths: ['/usr/local/lib/python3.8/dist-packages/tensorflow_io/python/ops/libtensorflow_io.so']\n",
      "caused by: ['/usr/local/lib/python3.8/dist-packages/tensorflow_io/python/ops/libtensorflow_io.so: undefined symbol: _ZTVN3tsl13GcsFileSystemE']\n",
      "  warnings.warn(f\"file system plugins are not loaded: {e}\")\n"
     ]
    }
   ],
   "source": [
    "import tensorflow as tf\n",
    "import numpy as np\n",
    "from sklearn.metrics import confusion_matrix\n",
    "import pandas as pd\n",
    "import matplotlib.pyplot as plt\n",
    "import seaborn as sns\n",
    "from sklearn.metrics import precision_recall_fscore_support\n",
    "from sklearn.metrics import roc_curve, auc, roc_auc_score"
   ]
  },
  {
   "cell_type": "markdown",
   "id": "54ef0efa",
   "metadata": {},
   "source": [
    "### Carga modelo de TensorFlow Lite"
   ]
  },
  {
   "cell_type": "code",
   "execution_count": 2,
   "id": "9bf0001a",
   "metadata": {},
   "outputs": [
    {
     "name": "stderr",
     "output_type": "stream",
     "text": [
      "INFO: Created TensorFlow Lite XNNPACK delegate for CPU.\n"
     ]
    }
   ],
   "source": [
    "# Load TFLite model and allocate tensors.\n",
    "tflite_model_file = 'modelo_tesis_binario_Angry_finalv5.tflite'\n",
    "interpreter = tf.lite.Interpreter(model_path=tflite_model_file)\n",
    "interpreter.allocate_tensors()\n",
    "\n",
    "#Obtiene los índices de entrada y salida\n",
    "input_index = interpreter.get_input_details()[0][\"index\"]\n",
    "output_index = interpreter.get_output_details()[0][\"index\"]"
   ]
  },
  {
   "cell_type": "code",
   "execution_count": 3,
   "id": "c3874256",
   "metadata": {},
   "outputs": [
    {
     "data": {
      "text/plain": [
       "[{'name': 'serving_default_conv2d_6_input:0',\n",
       "  'index': 0,\n",
       "  'shape': array([ 1, 20, 63,  1], dtype=int32),\n",
       "  'shape_signature': array([-1, 20, 63,  1], dtype=int32),\n",
       "  'dtype': numpy.float32,\n",
       "  'quantization': (0.0, 0),\n",
       "  'quantization_parameters': {'scales': array([], dtype=float32),\n",
       "   'zero_points': array([], dtype=int32),\n",
       "   'quantized_dimension': 0},\n",
       "  'sparsity_parameters': {}}]"
      ]
     },
     "execution_count": 3,
     "metadata": {},
     "output_type": "execute_result"
    }
   ],
   "source": [
    "#Información sobre la entrada del modelo\n",
    "interpreter.get_input_details()"
   ]
  },
  {
   "cell_type": "code",
   "execution_count": 4,
   "id": "ff0fbbd0",
   "metadata": {},
   "outputs": [
    {
     "data": {
      "text/plain": [
       "[{'name': 'StatefulPartitionedCall:0',\n",
       "  'index': 23,\n",
       "  'shape': array([1, 1], dtype=int32),\n",
       "  'shape_signature': array([-1,  1], dtype=int32),\n",
       "  'dtype': numpy.float32,\n",
       "  'quantization': (0.0, 0),\n",
       "  'quantization_parameters': {'scales': array([], dtype=float32),\n",
       "   'zero_points': array([], dtype=int32),\n",
       "   'quantized_dimension': 0},\n",
       "  'sparsity_parameters': {}}]"
      ]
     },
     "execution_count": 4,
     "metadata": {},
     "output_type": "execute_result"
    }
   ],
   "source": [
    "#Información sobre la salida del modelo\n",
    "interpreter.get_output_details()"
   ]
  },
  {
   "cell_type": "code",
   "execution_count": 5,
   "id": "1f284c6c",
   "metadata": {},
   "outputs": [
    {
     "name": "stdout",
     "output_type": "stream",
     "text": [
      "Número total de parámetros: 7200\n"
     ]
    }
   ],
   "source": [
    "# Obtener todos los detalles del modelo\n",
    "model_details = interpreter.get_tensor_details()\n",
    "\n",
    "# Filtrar los detalles para obtener solo los relacionados con los parámetros\n",
    "parameter_details = [detail for detail in model_details if 'weight' in detail['name'] or 'bias' in detail['name']]\n",
    "\n",
    "# Calcular el número total de parámetros\n",
    "total_parameters = sum(np.prod(detail['shape']) for detail in parameter_details)\n",
    "\n",
    "print(\"Número total de parámetros:\", total_parameters)"
   ]
  },
  {
   "cell_type": "markdown",
   "id": "76336670",
   "metadata": {},
   "source": [
    "### Carga datos para pruebas"
   ]
  },
  {
   "cell_type": "code",
   "execution_count": 6,
   "id": "ec613fc0",
   "metadata": {},
   "outputs": [],
   "source": [
    "#Parámetros\n",
    "sampling_rate = 4096\n",
    "duration = 2\n",
    "#Calcula número de muestras\n",
    "num_muestras = sampling_rate*duration\n",
    "#Cantidad de datos por audio\n",
    "Size_data = num_muestras\n",
    "#Tamaño de la ventana\n",
    "Size_win = 256\n",
    "#Tamaño de offset\n",
    "Size_off = 128\n",
    "#Número total de ventaneos\n",
    "total_win_num = int(((Size_data-Size_win)/Size_off)+1)"
   ]
  },
  {
   "cell_type": "code",
   "execution_count": 6,
   "id": "4d522975",
   "metadata": {},
   "outputs": [],
   "source": [
    "#Carga arreglos guardados en csv\n",
    "trainMFCCs_load =  np.loadtxt('trainMFCCs.csv', delimiter=',')\n",
    "trainMFCCs = trainMFCCs_load.reshape(trainMFCCs_load.shape[0], \n",
    "                                     trainMFCCs_load.shape[1] // total_win_num, \n",
    "                                     total_win_num)\n",
    "testMFCCs_load =  np.loadtxt('testMFCCs.csv', delimiter=',')\n",
    "testMFCCs = testMFCCs_load.reshape(testMFCCs_load.shape[0], \n",
    "                                   testMFCCs_load.shape[1] // total_win_num, \n",
    "                                   total_win_num)\n",
    "evalMFCCs_load =  np.loadtxt('evalMFCCs.csv', delimiter=',')\n",
    "evalMFCCs = evalMFCCs_load.reshape(evalMFCCs_load.shape[0], \n",
    "                                   evalMFCCs_load.shape[1] // total_win_num, \n",
    "                                   total_win_num)\n",
    "\n",
    "#Carga Etiquetas guardadas en csv\n",
    "trainLabels =  np.loadtxt('trainLabels_noDataAug.csv', delimiter=',')\n",
    "testLabels =  np.loadtxt('testLabels_noDataAug.csv', delimiter=',')\n",
    "evalLabels =  np.loadtxt('evalLabels_noDataAug.csv', delimiter=',')"
   ]
  },
  {
   "cell_type": "markdown",
   "id": "e149f286",
   "metadata": {},
   "source": [
    "# Predicciones"
   ]
  },
  {
   "cell_type": "markdown",
   "id": "a4346523",
   "metadata": {},
   "source": [
    "### Entrenamiento"
   ]
  },
  {
   "cell_type": "code",
   "execution_count": 7,
   "id": "fabf66b4",
   "metadata": {},
   "outputs": [],
   "source": [
    "#Agrega dimensión para que coincida con la entrada de la red\n",
    "trainMFCCs = np.expand_dims(trainMFCCs, axis=-1)\n",
    "trainMFCCs = trainMFCCs.astype(np.float32)\n",
    "\n",
    "#Predicciones de entrenamiento\n",
    "predictions = []\n",
    "for mfcc in trainMFCCs:\n",
    "    # Asegúrate de que 'mfcc' tenga la forma y tipo de datos correctos\n",
    "    mfcc = np.expand_dims(mfcc, axis=0).astype(np.float32)\n",
    "    \n",
    "    # Establecer la entrada del modelo\n",
    "    interpreter.set_tensor(input_index, mfcc)\n",
    "    \n",
    "    # Realizar la inferencia\n",
    "    interpreter.invoke()\n",
    "    \n",
    "    # Obtener la salida del modelo\n",
    "    output = interpreter.get_tensor(output_index)\n",
    "    predictions.append(output)"
   ]
  },
  {
   "cell_type": "code",
   "execution_count": 8,
   "id": "6813eae9",
   "metadata": {},
   "outputs": [
    {
     "data": {
      "text/plain": [
       "[array([[0.16419727]], dtype=float32),\n",
       " array([[0.74727124]], dtype=float32),\n",
       " array([[0.9554713]], dtype=float32),\n",
       " array([[0.9688571]], dtype=float32),\n",
       " array([[0.8376266]], dtype=float32),\n",
       " array([[0.8961757]], dtype=float32),\n",
       " array([[0.44302806]], dtype=float32),\n",
       " array([[0.5158547]], dtype=float32),\n",
       " array([[0.9775508]], dtype=float32),\n",
       " array([[0.9625804]], dtype=float32)]"
      ]
     },
     "execution_count": 8,
     "metadata": {},
     "output_type": "execute_result"
    }
   ],
   "source": [
    "predictions[0:10]"
   ]
  },
  {
   "cell_type": "code",
   "execution_count": 9,
   "id": "2d6962d2",
   "metadata": {},
   "outputs": [
    {
     "name": "stdout",
     "output_type": "stream",
     "text": [
      "Precisión del modelo: 0.9155833333333333\n"
     ]
    }
   ],
   "source": [
    "umbral = 0.5\n",
    "predictions = np.array(predictions).squeeze()  # Convertir la lista a un array\n",
    "predicted_labels = (predictions > umbral).astype(int)  # Usar un umbral si es necesario\n",
    "\n",
    "# Comparar con las etiquetas reales\n",
    "accuracy = np.mean(predicted_labels == trainLabels)\n",
    "print(\"Precisión del modelo:\", accuracy)"
   ]
  },
  {
   "cell_type": "markdown",
   "id": "ec8ec1be",
   "metadata": {},
   "source": [
    "### Prueba"
   ]
  },
  {
   "cell_type": "code",
   "execution_count": 10,
   "id": "5ae4826f",
   "metadata": {},
   "outputs": [
    {
     "name": "stdout",
     "output_type": "stream",
     "text": [
      "Precisión del modelo: 0.8291666666666667\n"
     ]
    }
   ],
   "source": [
    "#Agrega dimensión para que coincida con la entrada de la red\n",
    "testMFCCs = np.expand_dims(testMFCCs, axis=-1)\n",
    "testMFCCs = testMFCCs.astype(np.float32)\n",
    "\n",
    "#Predicciones de entrenamiento\n",
    "predictions = []\n",
    "for mfcc in testMFCCs:\n",
    "    # Asegúrate de que 'mfcc' tenga la forma y tipo de datos correctos\n",
    "    mfcc = np.expand_dims(mfcc, axis=0).astype(np.float32)\n",
    "    \n",
    "    # Establecer la entrada del modelo\n",
    "    interpreter.set_tensor(input_index, mfcc)\n",
    "    \n",
    "    # Realizar la inferencia\n",
    "    interpreter.invoke()\n",
    "    \n",
    "    # Obtener la salida del modelo\n",
    "    output = interpreter.get_tensor(output_index)\n",
    "    predictions.append(output)\n",
    "\n",
    "#Calcula precisión según umbral\n",
    "umbral = 0.5\n",
    "predictions = np.array(predictions).squeeze()  # Convertir la lista a un array\n",
    "predicted_labels = (predictions > umbral).astype(int)  # Usar un umbral si es necesario\n",
    "\n",
    "# Comparar con las etiquetas reales\n",
    "accuracy = np.mean(predicted_labels == testLabels)\n",
    "print(\"Precisión del modelo:\", accuracy)"
   ]
  },
  {
   "cell_type": "markdown",
   "id": "409ceae0",
   "metadata": {},
   "source": [
    "### Evaluación"
   ]
  },
  {
   "cell_type": "code",
   "execution_count": 11,
   "id": "55a72e21",
   "metadata": {},
   "outputs": [
    {
     "name": "stdout",
     "output_type": "stream",
     "text": [
      "Precisión del modelo: 0.7875\n"
     ]
    }
   ],
   "source": [
    "#Agrega dimensión para que coincida con la entrada de la red\n",
    "evalMFCCs = np.expand_dims(evalMFCCs, axis=-1)\n",
    "evalMFCCs = evalMFCCs.astype(np.float32)\n",
    "\n",
    "#Predicciones de entrenamiento\n",
    "predictions = []\n",
    "for mfcc in evalMFCCs:\n",
    "    # Asegúrate de que 'mfcc' tenga la forma y tipo de datos correctos\n",
    "    mfcc = np.expand_dims(mfcc, axis=0).astype(np.float32)\n",
    "    \n",
    "    # Establecer la entrada del modelo\n",
    "    interpreter.set_tensor(input_index, mfcc)\n",
    "    \n",
    "    # Realizar la inferencia\n",
    "    interpreter.invoke()\n",
    "    \n",
    "    # Obtener la salida del modelo\n",
    "    output = interpreter.get_tensor(output_index)\n",
    "    predictions.append(output)\n",
    "\n",
    "#Calcula precisión según umbral\n",
    "umbral = 0.5\n",
    "predictions = np.array(predictions).squeeze()  # Convertir la lista a un array\n",
    "predicted_labels = (predictions > umbral).astype(int)  # Usar un umbral si es necesario\n",
    "\n",
    "# Comparar con las etiquetas reales\n",
    "accuracy = np.mean(predicted_labels == evalLabels)\n",
    "print(\"Precisión del modelo:\", accuracy)"
   ]
  },
  {
   "cell_type": "markdown",
   "id": "8507343c",
   "metadata": {},
   "source": [
    "# Matriz de confusión"
   ]
  },
  {
   "cell_type": "code",
   "execution_count": 12,
   "id": "2c8e64e4",
   "metadata": {},
   "outputs": [
    {
     "data": {
      "image/png": "[encoded data removed]",
      "text/plain": [
       "<Figure size 800x600 with 2 Axes>"
      ]
     },
     "metadata": {},
     "output_type": "display_data"
    }
   ],
   "source": [
    "#Predicciones de 0 y 1\n",
    "predictions_bin = (predictions > umbral).astype(int)\n",
    "\n",
    "#Vector de clases\n",
    "clases_vec = [0,1]\n",
    "emotion_vec = [\"Other\",\"Angry\"]\n",
    "\n",
    "#Calcula matriz de confusión\n",
    "con_mat = confusion_matrix(evalLabels, predictions_bin, labels=clases_vec)\n",
    "#Convierte matriz en un pandas dataframe\n",
    "#Rows =    Valores verdaderos\n",
    "#Columns = Valores predichos\n",
    "con_mat_df = pd.DataFrame(con_mat, index=emotion_vec, columns=emotion_vec)\n",
    "\n",
    "# Crear un mapa de calor\n",
    "plt.figure(figsize=(8, 6))\n",
    "sns.heatmap(con_mat_df, annot=True, fmt='d', cmap='Blues')\n",
    "\n",
    "plt.xlabel('Valores predichos', fontsize=14)\n",
    "plt.ylabel('Valores verdaderos', fontsize=14)\n",
    "plt.title('Matriz de Confusión TFLite', fontsize=16)\n",
    "plt.show()"
   ]
  },
  {
   "cell_type": "markdown",
   "id": "2a93365f",
   "metadata": {},
   "source": [
    "# Curva ROC"
   ]
  },
  {
   "cell_type": "code",
   "execution_count": 13,
   "id": "fd601cb9",
   "metadata": {},
   "outputs": [
    {
     "data": {
      "image/png": "[encoded data removed]",
      "text/plain": [
       "<Figure size 800x600 with 1 Axes>"
      ]
     },
     "metadata": {},
     "output_type": "display_data"
    }
   ],
   "source": [
    "# Supongamos que 'etiquetas_reales' son las etiquetas reales (0 o 1) y 'predicciones' son las predicciones del modelo.\n",
    "# Asegúrate de tener predicciones continuas (no binarias) en 'predicciones'.\n",
    "\n",
    "fpr, tpr, umbrales = roc_curve(evalLabels, predictions)\n",
    "area_bajo_curva = roc_auc_score(evalLabels, predictions)\n",
    "\n",
    "# Grafica la Curva ROC\n",
    "plt.figure(figsize=(8, 6))\n",
    "plt.plot(fpr, tpr, color='blue', lw=2, label=f'Curva ROC (AUC = {area_bajo_curva:.2f})')\n",
    "plt.plot([0, 1], [0, 1], color='gray', linestyle='--')\n",
    "plt.xlim([0.0, 1.0])\n",
    "plt.ylim([0.0, 1.05])\n",
    "plt.xlabel('Tasa de Falsos Positivos (FPR)')\n",
    "plt.ylabel('Tasa de Verdaderos Positivos (TPR)')\n",
    "plt.title('Curva ROC TFLite')\n",
    "plt.legend(loc='lower right')\n",
    "plt.show()"
   ]
  },
  {
   "cell_type": "markdown",
   "id": "5f71a8bd",
   "metadata": {},
   "source": [
    "### Parámetros"
   ]
  },
  {
   "cell_type": "code",
   "execution_count": 14,
   "id": "bb477e17",
   "metadata": {},
   "outputs": [
    {
     "data": {
      "text/html": [
       "<div>\n",
       "<style scoped>\n",
       "    .dataframe tbody tr th:only-of-type {\n",
       "        vertical-align: middle;\n",
       "    }\n",
       "\n",
       "    .dataframe tbody tr th {\n",
       "        vertical-align: top;\n",
       "    }\n",
       "\n",
       "    .dataframe thead th {\n",
       "        text-align: right;\n",
       "    }\n",
       "</style>\n",
       "<table border=\"1\" class=\"dataframe\">\n",
       "  <thead>\n",
       "    <tr style=\"text-align: right;\">\n",
       "      <th></th>\n",
       "      <th>Emotion</th>\n",
       "      <th>Specificity</th>\n",
       "      <th>Recall</th>\n",
       "      <th>Precision</th>\n",
       "      <th>F_Score</th>\n",
       "    </tr>\n",
       "  </thead>\n",
       "  <tbody>\n",
       "    <tr>\n",
       "      <th>0</th>\n",
       "      <td>Other</td>\n",
       "      <td>0.760</td>\n",
       "      <td>0.815</td>\n",
       "      <td>0.772512</td>\n",
       "      <td>0.793187</td>\n",
       "    </tr>\n",
       "    <tr>\n",
       "      <th>1</th>\n",
       "      <td>Angry</td>\n",
       "      <td>0.815</td>\n",
       "      <td>0.760</td>\n",
       "      <td>0.804233</td>\n",
       "      <td>0.781491</td>\n",
       "    </tr>\n",
       "  </tbody>\n",
       "</table>\n",
       "</div>"
      ],
      "text/plain": [
       "  Emotion  Specificity  Recall  Precision   F_Score\n",
       "0   Other        0.760   0.815   0.772512  0.793187\n",
       "1   Angry        0.815   0.760   0.804233  0.781491"
      ]
     },
     "execution_count": 14,
     "metadata": {},
     "output_type": "execute_result"
    }
   ],
   "source": [
    "#Crea lista vacía de estadísticos\n",
    "statistics = []\n",
    "\n",
    "#Ciclo para calcular especificidad, recall, precision y f_score\n",
    "for label in range(0,2):\n",
    "    precision, recall, f_score, support = precision_recall_fscore_support(evalLabels==label,\n",
    "                                           predictions_bin==label)\n",
    "    statistics.append([emotion_vec[label], recall[0], recall[1], precision[1], f_score[1]])\n",
    "\n",
    "#Convierte resultados en dataframe y agrega columnas\n",
    "statistics = pd.DataFrame(statistics, columns=[\"Emotion\",\"Specificity\", \"Recall\", \"Precision\", \"F_Score\"])\n",
    "statistics"
   ]
  }
 ],
 "metadata": {
  "kernelspec": {
   "display_name": "Python 3 (ipykernel)",
   "language": "python",
   "name": "python3"
  },
  "language_info": {
   "codemirror_mode": {
    "name": "ipython",
    "version": 3
   },
   "file_extension": ".py",
   "mimetype": "text/x-python",
   "name": "python",
   "nbconvert_exporter": "python",
   "pygments_lexer": "ipython3",
   "version": "3.8.10"
  }
 },
 "nbformat": 4,
 "nbformat_minor": 5
}
